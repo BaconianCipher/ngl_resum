{
 "cells": [
  {
   "cell_type": "markdown",
   "metadata": {},
   "source": [
    "# LL Resummation, starting from a Les Houches Event File"
   ]
  },
  {
   "cell_type": "markdown",
   "metadata": {},
   "source": [
    "If you use the package ngl\\_resum, please cite [doi:10.1007/JHEP09(2020)029](https://inspirehep.net/literature/1798660)."
   ]
  },
  {
   "cell_type": "markdown",
   "metadata": {},
   "source": [
    "In this example, we will use the ngl\\_resum package to resum the non-global logarithms of a rapidity gap, starting from a Les Houches Event File (LHEF) which we read in using the package pylhe. We will use the file sample\\_events\\_100.lhe in this example, to be found under [https://github.com/MarcelBalsiger/ngl_resum/tree/master/docs/lhef](https://github.com/MarcelBalsiger/ngl_resum/tree/master/docs/lhef). It contains a set of 100 events, created by MadGraph via <code>generate p p > t t~ > vl l+ vl~ l- b b~</code>, stripped of all non-necessary information such as the run card and parameter card. A similar code was used to obtain the results of Section 5 [doi:10.1007/JHEP09(2020)029](https://inspirehep.net/literature/1798660).<br>It makes sense to first have a look at the other example, where we resum the non-global logarithms of a similar rapidity gap but start from one single dipole, as we will not go into every detail here. We suggest this notebook to be used in Binder:\n",
    "[![Binder](https://mybinder.org/badge_logo.svg)](https://mybinder.org/v2/gh/MarcelBalsiger/ngl_resum/master?filepath=%2Fdocs%2Fresummator_lhe.ipynb) "
   ]
  },
  {
   "cell_type": "markdown",
   "metadata": {},
   "source": [
    "To have this example working as a jupyter notebook, one needs to have the packages numpy, physt, pylhe and - obviously - ngl\\_resum installed. The easiest way to do this is to use <code>pip install numpy physt pylhe ngl_resum </code>. Details may be found here: [https://packaging.python.org/tutorials/installing-packages/#use-pip-for-installing](https://packaging.python.org/tutorials/installing-packages/#use-pip-for-installing)."
   ]
  },
  {
   "cell_type": "markdown",
   "metadata": {},
   "source": [
    "Lastly, one can also download the file resummator\\_LHE.py from [https://github.com/MarcelBalsiger/ngl_resum/tree/master/examples](https://github.com/MarcelBalsiger/ngl_resum/tree/master/examples) and play around with it, using this documentation on the side to explain the important steps."
   ]
  },
  {
   "cell_type": "markdown",
   "metadata": {},
   "source": [
    "### Imports and constants"
   ]
  },
  {
   "cell_type": "markdown",
   "metadata": {},
   "source": [
    "We start by importing the packages we need. We will also define some constants, the meaning of which you know from the other example."
   ]
  },
  {
   "cell_type": "code",
   "execution_count": 1,
   "metadata": {},
   "outputs": [],
   "source": [
    "import time\n",
    "import numpy as np\n",
    "import argparse\n",
    "import pylhe\n",
    "import ngl_resum as ngl\n",
    "\n",
    "nbins = 10\n",
    "tmax  = 0.1\n",
    "nsh = 20\n",
    "showerCutoff = 6."
   ]
  },
  {
   "cell_type": "markdown",
   "metadata": {},
   "source": [
    "Note, that <code>nsh</code> is the number of times we want to shower each event. "
   ]
  },
  {
   "cell_type": "markdown",
   "metadata": {},
   "source": [
    "### Reading in the LHEF"
   ]
  },
  {
   "cell_type": "markdown",
   "metadata": {},
   "source": [
    "We will now read in the event file. To do this, we depend entirely on the package pylhe:"
   ]
  },
  {
   "cell_type": "code",
   "execution_count": 2,
   "metadata": {},
   "outputs": [],
   "source": [
    "pathToFile=\"lhef/sample_events_100.lhe\"\n",
    "evtFile = pylhe.readLHE(pathToFile)"
   ]
  },
  {
   "cell_type": "markdown",
   "metadata": {},
   "source": [
    "We have now all our events stored in <code>evtFile</code> and can iterate over each of them. However, before we do that we want to write a method which can check whether the <code>Event</code> needs to be showered (i.e. is valid) and also define an <code>OutsideRegion</code>."
   ]
  },
  {
   "cell_type": "markdown",
   "metadata": {},
   "source": [
    "### Check validity of event"
   ]
  },
  {
   "cell_type": "markdown",
   "metadata": {},
   "source": [
    "We assume an event to be valid, if it fulfills the requirements of Table 1 <a href=https://arxiv.org/abs/1203.5015>https://arxiv.org/abs/1203.5015</a>. This might seem a bit complicated but the following method should be self-explanatory and provide an easy example of how to use the attributes of the <code>Event</code> class when instantiated from an <code>pylhe.LHEEvent</code>."
   ]
  },
  {
   "cell_type": "markdown",
   "metadata": {},
   "source": [
    "The following method returns <code>True</code>, if the conditions are met returns <code>False</code>, if any of the requirements is violated."
   ]
  },
  {
   "cell_type": "code",
   "execution_count": 3,
   "metadata": {},
   "outputs": [],
   "source": [
    "def validEvent(ev): # ev is the ngl.Event we want to test\n",
    "    \n",
    "    # check whether we have the necessary particles\n",
    "    if ev.intermediateTop == None : return False\n",
    "    if ev.outgoingBottom == None : return False\n",
    "    if (ev.outgoingElectron == None) and (ev.outgoingMuon == None): return False\n",
    "    if len(ev.intermediateTop) != 2 :  return False\n",
    "    if len(ev.outgoingBottom) != 2 : return False\n",
    "\n",
    "    momentaLeptonsOut=[]\n",
    "    momentaNeutrinoOut=[]\n",
    "    \n",
    "    electronmuonevent=True\n",
    "    if not ev.outgoingElectron==None:\n",
    "        for i in ev.outgoingElectron:\n",
    "            momentaLeptonsOut.append(i)\n",
    "            # checks on electron(s)\n",
    "            if i.eT< 25: return False\n",
    "            if abs(i.rap)>2.47: return False\n",
    "        for i in ev.outgoingENeutrino:\n",
    "            momentaNeutrinoOut.append(i)\n",
    "    else:\n",
    "        electronmuonevent=False\n",
    "            \n",
    "\n",
    "    if not ev.outgoingMuon==None:\n",
    "        for i in ev.outgoingMuon:\n",
    "            momentaLeptonsOut.append(i)\n",
    "            # checks on muon(s)\n",
    "            if i.pT< 20: return False\n",
    "            if abs(i.rap)>2.5: return False\n",
    "        for i in ev.outgoingMNeutrino:\n",
    "            momentaNeutrinoOut.append(i)\n",
    "    else:\n",
    "        electronmuonevent=False\n",
    "    \n",
    "    # check number of leptons ans neutrinos\n",
    "    if len(momentaLeptonsOut) != 2 : return False\n",
    "    if len(momentaNeutrinoOut) != 2 : return False\n",
    "    \n",
    "    dileptonmass=np.sqrt((momentaLeptonsOut[0]+momentaLeptonsOut[1])*\\\n",
    "                            (momentaLeptonsOut[0]+momentaLeptonsOut[1]))\n",
    "    missingMomentum=(momentaNeutrinoOut[0]+momentaNeutrinoOut[1])\n",
    "        \n",
    "    if not electronmuonevent:\n",
    "        # checks on \"missing momenta\" (neutrinos) and dilepton mass\n",
    "        if missingMomentum.eT<40 : return False\n",
    "        if (dileptonmass<15 or abs(dileptonmass-91)<10) : return False\n",
    "    else:\n",
    "        # check on visible transverse momentum\n",
    "        if (momentaLeptonsOut[0].pT+momentaLeptonsOut[1].pT+\\\n",
    "            ev.outgoingBottom[0].pT+ev.outgoingBottom[1].pT)<130:\n",
    "                return False\n",
    "\n",
    "    # checks on bottom quarks\n",
    "    for i in ev.outgoingBottom:\n",
    "        if i.pT<25: return False\n",
    "        if abs(i.rap)>2.4: return False\n",
    "        for j in momentaLeptonsOut:\n",
    "                    if i.R2(j)<0.4**2: return False\n",
    "\n",
    "    return True # only gets reached, if no check failed."
   ]
  },
  {
   "cell_type": "markdown",
   "metadata": {},
   "source": [
    "### Defining the outside region"
   ]
  },
  {
   "cell_type": "markdown",
   "metadata": {},
   "source": [
    "Now we want to define the outside region to be a rapidity gap, just as in the other example. However, this time we have to account for the jets formed from the bottom quarks and cut them away from the outside region. This means that the region where we veto radiation looks as follows:"
   ]
  },
  {
   "cell_type": "markdown",
   "metadata": {},
   "source": [
    "<div style=\"text-align: center\">\n",
    "<img src=\"figures/outside_lhe.jpg\" width=380px>\n",
    "</div>"
   ]
  },
  {
   "cell_type": "markdown",
   "metadata": {},
   "source": [
    "Because this outside region depends on the directions of the bottom quarks (which are treated as the center of the jets), we can not simply instantiate an <code>OutsideRegion</code> once and for all, but have to postpone the instantiation to each event. The <code>_outside(self,vec)</code> method however is the same each time. With <code>self.event</code> you can access the <code>Event</code> you initiate the <code>OutsideRegion</code> with and all the attributes that come with it:"
   ]
  },
  {
   "cell_type": "code",
   "execution_count": 4,
   "metadata": {},
   "outputs": [],
   "source": [
    "def _outside(self,v):\n",
    "    jetaxis1=self.event.outgoingBottom[0]/self.event.outgoingBottom[0].e\n",
    "    jetaxis2=self.event.outgoingBottom[1]/self.event.outgoingBottom[1].e\n",
    "    jetRadius=0.4\n",
    "    rapRangeMax=0.8\n",
    "    rapRangeMin=0.0\n",
    "    return (v.R2(jetaxis1)>jetRadius**2) and \\\n",
    "           (v.R2(jetaxis2)>jetRadius**2) and \\\n",
    "           (abs(v.rap)<rapRangeMax) and (abs(v.rap)>=rapRangeMin)"
   ]
  },
  {
   "cell_type": "markdown",
   "metadata": {},
   "source": [
    "### Showering the events, one by one"
   ]
  },
  {
   "cell_type": "markdown",
   "metadata": {},
   "source": [
    "As we can only shower the LHE file event-by-event, we need a way to keep track of the past showerings. In the end, we want to extract the histogram of the LL resummation and both the one-loop and two-loop coefficients of the expansion, exactly as in the other example. Note that we explicitly do not calculate the error of these quantities in this notebook to streamline the essential discussion, for the calculation with the errors we refer to resummator\\_LHE.py from [https://github.com/MarcelBalsiger/ngl_resum/tree/master/examples](https://github.com/MarcelBalsiger/ngl_resum/tree/master/examples). Therefore, we need to set up the following variables: "
   ]
  },
  {
   "cell_type": "code",
   "execution_count": 5,
   "metadata": {},
   "outputs": [],
   "source": [
    "fullResultLL=ngl.Hist(nbins,tmax,errorHistCalc=False)\n",
    "fullNGL1Loop=0.\n",
    "fullNGL2Loop=0."
   ]
  },
  {
   "cell_type": "markdown",
   "metadata": {},
   "source": [
    "We also want to keep track on the number of events, and especially the number of valid events:"
   ]
  },
  {
   "cell_type": "code",
   "execution_count": 6,
   "metadata": {},
   "outputs": [],
   "source": [
    "numberEvents=0\n",
    "numberValidEvents=0"
   ]
  },
  {
   "cell_type": "markdown",
   "metadata": {},
   "source": [
    "Now we all set and ready to shower our events one by one by iterating over <code>evtFile</code>. "
   ]
  },
  {
   "cell_type": "markdown",
   "metadata": {},
   "source": [
    "Each time we instantiate an <code>Event</code> with the <code>pylhe.LHEEvent</code>, where the color dipoles get formed between the incoming and intermediate particles and also adding the dipoles formed by the decay of the top quarks to get ready to shower. Note that this setup is specific for the top quark production and decay, as discussed in Section 5 of  [doi:10.1007/JHEP09(2020)029](https://inspirehep.net/literature/1798660)(see Figure 7). You most likely simply need to leave the default values <code>productionDipoles='outgoing',decayDipoles=False</code>. More details on the options <code>productionDipoles</code> and <code>decayDipoles</code> can be found in the documentation of ngl\\_resum itself."
   ]
  },
  {
   "cell_type": "markdown",
   "metadata": {},
   "source": [
    "After we set up the <code>Event</code>, we check whether it is valid or not using above method. "
   ]
  },
  {
   "cell_type": "markdown",
   "metadata": {},
   "source": [
    "If it passes all the tests and is indeed valid, we set up the event-specific <code>OutsideRegion</code>. To do so, we instantiate it by passing the <code>Event</code>, and then replace the stub-method <code>outside(self,v)</code> by above method <code>_outside(self,v)</code> using the same command as in the other example."
   ]
  },
  {
   "cell_type": "markdown",
   "metadata": {},
   "source": [
    "With the <code>Event</code> and the <code>OutsideRegion</code> ready, we can start the showering of the event. To do so, we simply instantiate a <code>Shower</code> using the relevant parameters. One should take special care about the parameters <code>nbins</code> and <code>tmax</code> to be the same as in the <code>Hist</code> of <code>fullResultLL</code> as defined above. "
   ]
  },
  {
   "cell_type": "markdown",
   "metadata": {},
   "source": [
    "What is then left to do is simply to shower the <code>Shower</code> and add the result to the <code>fullResultLL</code>, as well as adding the one-loop and two-loop coefficients of the expansion. For testing purposes we can track the time (with the default values this following step might take roughly one minute, depending on hardware):"
   ]
  },
  {
   "cell_type": "code",
   "execution_count": 7,
   "metadata": {},
   "outputs": [
    {
     "name": "stdout",
     "output_type": "stream",
     "text": [
      "runtime= 64.41365456581116 sec\n",
      "Of 100 events, 63 were valid.\n"
     ]
    }
   ],
   "source": [
    "timeStart = time.time()\n",
    "for event in evtFile:\n",
    "    numberEvents+=1\n",
    "        \n",
    "    ev=ngl.Event(eventFromFile=event,productionDipoles='intermediate',\n",
    "                    decayDipoles=True)\n",
    "    \n",
    "    if validEvent(ev):\n",
    "        numberValidEvents+=1\n",
    "        \n",
    "        outsideRegion=ngl.OutsideRegion(ev)\n",
    "        outsideRegion.outside = _outside.__get__(outsideRegion,ngl.OutsideRegion)\n",
    "        shower=ngl.Shower(ev,outsideRegion,nsh,nbins,tmax,showerCutoff)\n",
    "        shower.shower()\n",
    "        \n",
    "        fullResultLL+=shower.resLL\n",
    "        fullNGL1Loop+=shower.ngl1Loop\n",
    "        fullNGL2Loop+=shower.ngl2Loop\n",
    "\n",
    "print(\"runtime=\", time.time()-timeStart,\"sec\")\n",
    "print(\"Of\", numberEvents,\"events,\", numberValidEvents,\"were valid.\")"
   ]
  },
  {
   "cell_type": "markdown",
   "metadata": {},
   "source": [
    "Done!"
   ]
  },
  {
   "cell_type": "markdown",
   "metadata": {},
   "source": [
    "### Results"
   ]
  },
  {
   "cell_type": "markdown",
   "metadata": {},
   "source": [
    "Now we have all the information on the showered events stored in the three variables <code>full...</code>. Right now, these are just the sum of all the quantities of every valid event - to get the Monte Carlo estimate, we still have to divide them by this numbe:"
   ]
  },
  {
   "cell_type": "code",
   "execution_count": 8,
   "metadata": {},
   "outputs": [],
   "source": [
    "fullResultLL/=numberValidEvents\n",
    "fullNGL1Loop/=numberValidEvents\n",
    "fullNGL2Loop/=numberValidEvents"
   ]
  },
  {
   "cell_type": "markdown",
   "metadata": {},
   "source": [
    "Now we can look at the results of the resummation:"
   ]
  },
  {
   "cell_type": "code",
   "execution_count": 9,
   "metadata": {},
   "outputs": [
    {
     "data": {
      "text/plain": [
       "    t   | entries  \n",
       "--------|----------\n",
       " 0.0050 | 0.734228\n",
       " 0.0150 | 0.448186\n",
       " 0.0250 | 0.254522\n",
       " 0.0350 | 0.235584\n",
       " 0.0450 | 0.148001\n",
       " 0.0550 | 0.170692\n",
       " 0.0650 | 0.100950\n",
       " 0.0750 | 0.055510\n",
       " 0.0850 | 0.005174\n",
       " 0.0950 | 0.011772"
      ]
     },
     "execution_count": 9,
     "metadata": {},
     "output_type": "execute_result"
    }
   ],
   "source": [
    "fullResultLL"
   ]
  },
  {
   "cell_type": "markdown",
   "metadata": {},
   "source": [
    "The one-loop expansion reads"
   ]
  },
  {
   "cell_type": "code",
   "execution_count": 10,
   "metadata": {},
   "outputs": [
    {
     "data": {
      "text/plain": [
       "-15.8774"
      ]
     },
     "execution_count": 10,
     "metadata": {},
     "output_type": "execute_result"
    }
   ],
   "source": [
    "round(shower.ngl1Loop,4)"
   ]
  },
  {
   "cell_type": "markdown",
   "metadata": {},
   "source": [
    "and the two-loop one"
   ]
  },
  {
   "cell_type": "code",
   "execution_count": 11,
   "metadata": {},
   "outputs": [
    {
     "data": {
      "text/plain": [
       "92.506"
      ]
     },
     "execution_count": 11,
     "metadata": {},
     "output_type": "execute_result"
    }
   ],
   "source": [
    "round(shower.ngl2Loop+0.5*shower.ngl1Loop**2,4)"
   ]
  },
  {
   "cell_type": "markdown",
   "metadata": {},
   "source": [
    "Let us stress again that we did not calculate the error of the quantities in this example. A more thorough and less streamlined example code is given by resummator\\_LHE.py from [https://github.com/MarcelBalsiger/ngl_resum/tree/master/examples](https://github.com/MarcelBalsiger/ngl_resum/tree/master/examples). Note that several shortcuts we did, such as the division of the <code>Hist</code> by a scalar, do not work when calculating the errors."
   ]
  }
 ],
 "metadata": {
  "kernelspec": {
   "display_name": "Python 3",
   "language": "python",
   "name": "python3"
  },
  "language_info": {
   "codemirror_mode": {
    "name": "ipython",
    "version": 3
   },
   "file_extension": ".py",
   "mimetype": "text/x-python",
   "name": "python",
   "nbconvert_exporter": "python",
   "pygments_lexer": "ipython3",
   "version": "3.6.11"
  }
 },
 "nbformat": 4,
 "nbformat_minor": 4
}
