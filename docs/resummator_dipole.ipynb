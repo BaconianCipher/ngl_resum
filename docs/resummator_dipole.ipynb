{
 "cells": [
  {
   "cell_type": "markdown",
   "metadata": {},
   "source": [
    "# LL Resummation, starting from a dipole"
   ]
  },
  {
   "cell_type": "markdown",
   "metadata": {},
   "source": [
    "If you use the package ngl\\_resum, please cite [doi:10.1007/JHEP09(2020)029](https://inspirehep.net/literature/1798660)."
   ]
  },
  {
   "cell_type": "markdown",
   "metadata": {},
   "source": [
    "In this example, we will use the ngl\\_resum package to resum the non-global logarithms of a rapidity gap, starting from a single color dipole along the beam axis. We suggest this notebook to be used in Binder:\n",
    "[![Binder](https://mybinder.org/badge_logo.svg)](https://mybinder.org/v2/gh/MarcelBalsiger/ngl_resum/master?filepath=%2Fdocs%2Fresummator_dipole.ipynb) "
   ]
  },
  {
   "cell_type": "markdown",
   "metadata": {},
   "source": [
    "To have this example working as a jupyter notebook, one needs to have the packages numpy, physt and - obviously - ngl\\_resum installed. The easiest way to do this is to use <code>pip install ngl_resum</code>. Details may be found here: [https://packaging.python.org/tutorials/installing-packages/#use-pip-for-installing](https://packaging.python.org/tutorials/installing-packages/#use-pip-for-installing)"
   ]
  },
  {
   "cell_type": "markdown",
   "metadata": {},
   "source": [
    "Lastly, one can also download the file resummator\\_dipole.py from [https://github.com/MarcelBalsiger/ngl_resum/tree/master/examples](https://github.com/MarcelBalsiger/ngl_resum/tree/master/examples) and play around with it, using this documentation on the side to explain the important steps. Don't forget to <code>pip install ngl_resum</code>."
   ]
  },
  {
   "cell_type": "markdown",
   "metadata": {},
   "source": [
    "### Imports"
   ]
  },
  {
   "cell_type": "markdown",
   "metadata": {},
   "source": [
    "We start by importing the packages we need. In the file resummator\\_dipole.py, we will also import argparse, but to streamline this documentation, we will not discuss the self-explanatory parsing of variables."
   ]
  },
  {
   "cell_type": "code",
   "execution_count": 1,
   "metadata": {},
   "outputs": [],
   "source": [
    "import time\n",
    "import numpy as np\n",
    "import ngl_resum as ngl"
   ]
  },
  {
   "cell_type": "markdown",
   "metadata": {},
   "source": [
    "### Constants"
   ]
  },
  {
   "cell_type": "markdown",
   "metadata": {},
   "source": [
    "We will now define some constants that will be used throughout the example to set up the shower. In resummator\\_dipole.py, these constants are given by passing arguments from the command line."
   ]
  },
  {
   "cell_type": "markdown",
   "metadata": {},
   "source": [
    "Our end result of the resummation will be a histogram from t=0 to t=<code>tmax</code> consisting of <code>nbins</code> bins:"
   ]
  },
  {
   "cell_type": "code",
   "execution_count": 2,
   "metadata": {},
   "outputs": [],
   "source": [
    "nbins = 10\n",
    "tmax  = 0.1"
   ]
  },
  {
   "cell_type": "markdown",
   "metadata": {},
   "source": [
    "We will shower the dipole <code>nsh</code> times:"
   ]
  },
  {
   "cell_type": "code",
   "execution_count": 3,
   "metadata": {},
   "outputs": [],
   "source": [
    "nsh = 1000"
   ]
  },
  {
   "cell_type": "markdown",
   "metadata": {},
   "source": [
    "We have to apply a cutoff of collinear emissions to massless legs. The parameter of <code>showerCutoff</code> corresponds to $\\eta_{max}$ as discussed in (A.14) of [doi:10.1007/JHEP09(2020)029](https://inspirehep.net/literature/1798660), reliable values are between 4 and 7. This cutoff is left to be defined by the user to speed up the calculation of test codes (smaller values), as computational time rises significantly with this cutoff."
   ]
  },
  {
   "cell_type": "code",
   "execution_count": 4,
   "metadata": {},
   "outputs": [],
   "source": [
    "showerCutoff = 6."
   ]
  },
  {
   "cell_type": "markdown",
   "metadata": {},
   "source": [
    "### Building the Event"
   ]
  },
  {
   "cell_type": "markdown",
   "metadata": {},
   "source": [
    "We will now set up the event to eventually shower and choose this to be a back-to-back dipole along the beam axis with both legs of velocity <code>b</code>. A dipole consists of two legs, each represented by a <code>FourVector</code>, which is one of the classes of ngl\\_resum. The two legs, normed to be of energy 1, are stored in an array:"
   ]
  },
  {
   "cell_type": "code",
   "execution_count": 5,
   "metadata": {},
   "outputs": [],
   "source": [
    "b = 0.9\n",
    "dipole = [ngl.FourVector(1,0,0,b),ngl.FourVector(1,0,0,-b)]"
   ]
  },
  {
   "cell_type": "markdown",
   "metadata": {},
   "source": [
    "Now to instantiate the <code>Event</code> to shower, we just have to pass this <code>dipole</code> into the <code>feedDipole</code>-parameter:"
   ]
  },
  {
   "cell_type": "code",
   "execution_count": 6,
   "metadata": {},
   "outputs": [],
   "source": [
    "ev = ngl.Event(feedDipole=dipole)"
   ]
  },
  {
   "cell_type": "markdown",
   "metadata": {},
   "source": [
    "Our <code>Event</code> is prepared and almost ready to shower. All that's left to do now is to define the region of soft energy where we veto energetic radiation."
   ]
  },
  {
   "cell_type": "markdown",
   "metadata": {},
   "source": [
    "### Defining the outside region"
   ]
  },
  {
   "cell_type": "markdown",
   "metadata": {},
   "source": [
    "We want to define the outside region to be a rapidity gap as depicted in the picture: "
   ]
  },
  {
   "cell_type": "markdown",
   "metadata": {},
   "source": [
    "<img src=\"./figures/outside_dipole.JPG\" width=380px>"
   ]
  },
  {
   "cell_type": "markdown",
   "metadata": {},
   "source": [
    "We have to first instantiate an <code>OutsideRegion</code>:"
   ]
  },
  {
   "cell_type": "code",
   "execution_count": 7,
   "metadata": {},
   "outputs": [],
   "source": [
    "outsideRegion = ngl.OutsideRegion()"
   ]
  },
  {
   "cell_type": "markdown",
   "metadata": {},
   "source": [
    "This does not do much yet. The <code>OutsideRegion</code> class is mainly a stub, consisting of one single method, <code>outside</code>. This method does not do anything without the user actually telling it what to do. The user has to code it in such a way that it will return either <code>True</code> or <code>False</code>, corresponding to whether the <code>FourVector</code> in the argument lands in the outside region or not. So, to set up our instance of <code>OutsideRegion</code> properly, we first write a function as follows:"
   ]
  },
  {
   "cell_type": "code",
   "execution_count": 8,
   "metadata": {},
   "outputs": [],
   "source": [
    "def _outside(self,v):\n",
    "    rapRangeMax = 0.8\n",
    "    rapRangeMin = 0.0\n",
    "    return (abs(v.rap)<rapRangeMax) and (abs(v.rap)>=rapRangeMin)"
   ]
  },
  {
   "cell_type": "markdown",
   "metadata": {},
   "source": [
    "Note that the function needs to have exactly these two arguments, <code>self</code> and a <code>FourVector</code>. The argument <code>self</code> contains the instantiated <code>OutsideRegion</code> class, the use of which is not part of this example and is explained thoroughly in the example resummator\\_LHE.py. The <code>FourVector</code> we feed into the method is the fourvector to be tested if it is outside."
   ]
  },
  {
   "cell_type": "markdown",
   "metadata": {},
   "source": [
    "Now, we need to connect <code>outsideRegion</code> (our instance of the <code>OutsideRegion</code> class) with the function <code>_outside(self,v)</code> we have just coded above. We do this by invoking the following code:"
   ]
  },
  {
   "cell_type": "code",
   "execution_count": 9,
   "metadata": {},
   "outputs": [],
   "source": [
    "outsideRegion.outside = _outside.__get__(outsideRegion,ngl.OutsideRegion)"
   ]
  },
  {
   "cell_type": "markdown",
   "metadata": {},
   "source": [
    "This command takes the stub of <code>outside(self, v)</code> from our instance <code>outsideRegion</code> and replaces it with the function <code>_outside(self, v)</code> from above. Now, our <code>outsideRegion</code> is properly set up and its <code>outside(self,v)</code>-method returns True, if <code>v</code> lands in the red region of the picture from above. To illustrate its behaviour, let us check two FourVectors, one that is outside and one that is inside: "
   ]
  },
  {
   "cell_type": "code",
   "execution_count": 10,
   "metadata": {},
   "outputs": [],
   "source": [
    "fvOut = ngl.FourVector(1,0,1,0) # light-like FourVector along y-axis - is outside!\n",
    "fvIn = ngl.FourVector(1,0,0,1)  # light-like FourVector along z-axis - is inside!"
   ]
  },
  {
   "cell_type": "code",
   "execution_count": 11,
   "metadata": {},
   "outputs": [
    {
     "data": {
      "text/plain": [
       "True"
      ]
     },
     "execution_count": 11,
     "metadata": {},
     "output_type": "execute_result"
    }
   ],
   "source": [
    "outsideRegion.outside(fvOut)"
   ]
  },
  {
   "cell_type": "code",
   "execution_count": 12,
   "metadata": {},
   "outputs": [
    {
     "data": {
      "text/plain": [
       "False"
      ]
     },
     "execution_count": 12,
     "metadata": {},
     "output_type": "execute_result"
    }
   ],
   "source": [
    "outsideRegion.outside(fvIn)"
   ]
  },
  {
   "cell_type": "markdown",
   "metadata": {},
   "source": [
    "We have now collected all the required ingredients of our shower and we resum the non-global logarithms of this specific problem."
   ]
  },
  {
   "cell_type": "markdown",
   "metadata": {},
   "source": [
    "### Showering the dipole"
   ]
  },
  {
   "cell_type": "markdown",
   "metadata": {},
   "source": [
    "To set up the showering procedure of this problem, we now need to instantiate the <code>Shower</code> class of  ngl\\_resum with all the required ingrdients:"
   ]
  },
  {
   "cell_type": "code",
   "execution_count": 13,
   "metadata": {},
   "outputs": [],
   "source": [
    "shower = ngl.Shower(ev,outsideRegion,nsh,nbins,tmax,showerCutoff)"
   ]
  },
  {
   "cell_type": "markdown",
   "metadata": {},
   "source": [
    "That's it! Now what we are left to do is to actually shower the event. To do this, we just have to invoke the <code>shower()</code>-method of our instance of the Shower class. To keep track of the required time for testing purposes, we also measure the runtime:"
   ]
  },
  {
   "cell_type": "code",
   "execution_count": 14,
   "metadata": {},
   "outputs": [
    {
     "name": "stdout",
     "output_type": "stream",
     "text": [
      "runtime= 3.4386754035949707  sec\n"
     ]
    }
   ],
   "source": [
    "timeStart = time.time()\n",
    "shower.shower()    \n",
    "print('runtime=', time.time()-timeStart,' sec')    "
   ]
  },
  {
   "cell_type": "markdown",
   "metadata": {},
   "source": [
    "Done!"
   ]
  },
  {
   "cell_type": "markdown",
   "metadata": {},
   "source": [
    "### Display results"
   ]
  },
  {
   "cell_type": "markdown",
   "metadata": {},
   "source": [
    "The last thing we need to do is print the results of the resummation. To do this, we will can simply print out the <code>Hist</code> of <code>shower.resLL</code>:"
   ]
  },
  {
   "cell_type": "code",
   "execution_count": 15,
   "metadata": {},
   "outputs": [
    {
     "data": {
      "text/plain": [
       "    t   | entries  |  error  \n",
       "--------|----------|---------\n",
       " 0.0050 | 0.969936 | 0.064212\n",
       " 0.0150 | 0.795605 | 0.057885\n",
       " 0.0250 | 0.691085 | 0.054194\n",
       " 0.0350 | 0.567803 | 0.049379\n",
       " 0.0450 | 0.558733 | 0.049099\n",
       " 0.0550 | 0.318400 | 0.036037\n",
       " 0.0650 | 0.334112 | 0.036356\n",
       " 0.0750 | 0.256343 | 0.032507\n",
       " 0.0850 | 0.140981 | 0.023062\n",
       " 0.0950 | 0.126037 | 0.021701"
      ]
     },
     "execution_count": 15,
     "metadata": {},
     "output_type": "execute_result"
    }
   ],
   "source": [
    "shower.resLL"
   ]
  },
  {
   "cell_type": "markdown",
   "metadata": {},
   "source": [
    "This histogram shows the LL resummation of our starting dipole with the defined outside region. It presents the result in the form of $R(t)$ as given in (2.22) of [doi:10.1007/JHEP09(2020)029](https://inspirehep.net/literature/1798660), with the parameter $t$ in the left column (center value of the bin), the Monte Carlo result of $R(t)$ in the middle and an error estimate for each bin on the right."
   ]
  },
  {
   "cell_type": "markdown",
   "metadata": {},
   "source": [
    "Other interesting values are the expansion parameters of the resummation as given in (4.3) of [doi:10.1007/JHEP09(2020)029](https://inspirehep.net/literature/1798660). The one-loop coefficient $\\mathcal{S}^{(1)}$ can be extracted as "
   ]
  },
  {
   "cell_type": "code",
   "execution_count": 16,
   "metadata": {},
   "outputs": [
    {
     "data": {
      "text/plain": [
       "-15.1785"
      ]
     },
     "execution_count": 16,
     "metadata": {},
     "output_type": "execute_result"
    }
   ],
   "source": [
    "round(shower.ngl1Loop,4)"
   ]
  },
  {
   "cell_type": "markdown",
   "metadata": {},
   "source": [
    "and the two-loop one $\\mathcal{S}^{(2)}$ consists of a non-global part directly extracted from the shower and an added global part, which corresponds to one  half  of  the  squared  one-loop  contribution:"
   ]
  },
  {
   "cell_type": "code",
   "execution_count": 17,
   "metadata": {},
   "outputs": [
    {
     "data": {
      "text/plain": [
       "105.8101"
      ]
     },
     "execution_count": 17,
     "metadata": {},
     "output_type": "execute_result"
    }
   ],
   "source": [
    "round(shower.ngl2Loop+0.5*shower.ngl1Loop**2,4)"
   ]
  },
  {
   "cell_type": "markdown",
   "metadata": {},
   "source": [
    "Note that the format of the output as given in resummator\\_dipole.py differs a little for simpler handling with multiple results collected from a cluster. "
   ]
  },
  {
   "cell_type": "markdown",
   "metadata": {},
   "source": [
    "Once finished playing around with this example, we are ready to discuss how to build Events from LHE files."
   ]
  }
 ],
 "metadata": {
  "kernelspec": {
   "display_name": "Python 3",
   "language": "python",
   "name": "python3"
  },
  "language_info": {
   "codemirror_mode": {
    "name": "ipython",
    "version": 3
   },
   "file_extension": ".py",
   "mimetype": "text/x-python",
   "name": "python",
   "nbconvert_exporter": "python",
   "pygments_lexer": "ipython3",
   "version": "3.6.11"
  }
 },
 "nbformat": 4,
 "nbformat_minor": 4
}
